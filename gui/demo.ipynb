{
 "cells": [
  {
   "cell_type": "code",
   "execution_count": 5,
   "metadata": {},
   "outputs": [],
   "source": [
    "import tkinter as tk\n",
    "from tkinter import filedialog\n",
    "from PIL import Image, ImageTk\n",
    "\n",
    "def image_style_transfer_GUI():\n",
    "    style_img_path = None\n",
    "    content_img_path = None\n",
    "    result_img_path = 'result_img.jpg'\n",
    "\n",
    "    def choose_style_img():\n",
    "        nonlocal style_img_path\n",
    "        file_path = filedialog.askopenfilename()\n",
    "        if file_path:\n",
    "            style_img_path = file_path\n",
    "            print('风格图片路径：', file_path)\n",
    "            button.config(state = tk.DISABLED)\n",
    "    \n",
    "    def choose_content_img():\n",
    "        nonlocal content_img_path\n",
    "        file_path = filedialog.askopenfilename()\n",
    "        if file_path:\n",
    "            content_img_path = file_path\n",
    "            print('内容图片路径：', file_path)\n",
    "\n",
    "    window = tk.Tk()\n",
    "    window.title('图像风格转换')\n",
    "    var = tk.StringVar()\n",
    "\n",
    "    button1 = tk.Button(window, text = '选择风格图片', command = choose_style_img)\n",
    "    button1.pack()\n",
    "    button2 = tk.Button(window, text = '选择内容图片', command = choose_content_img)\n",
    "    button2.pack()\n",
    "\n",
    "    if style_img_path and content_img_path:\n",
    "        #result_img = lst.test(style_img_path, content_img_path)\n",
    "        result_Img = Image.open(style_img_path)\n",
    "        result_img = \n",
    "        #result_img.save(result_img_path)\n",
    "\n",
    "    def show_img():\n",
    "        nonlocal result_img\n",
    "        var.set('结果图片')\n",
    "        label_Img = tk.Label(window, image = result_img)\n",
    "        label_Img.pack()\n",
    "\n",
    "    button3 = tk.Button(window, text = '显示结果', command = show_img)\n",
    "    button3.pack()\n",
    "\n",
    "    window.mainloop()"
   ]
  },
  {
   "cell_type": "code",
   "execution_count": 6,
   "metadata": {},
   "outputs": [
    {
     "ename": "UnboundLocalError",
     "evalue": "cannot access local variable 'result_img' where it is not associated with a value",
     "output_type": "error",
     "traceback": [
      "\u001b[0;31m---------------------------------------------------------------------------\u001b[0m",
      "\u001b[0;31mUnboundLocalError\u001b[0m                         Traceback (most recent call last)",
      "Cell \u001b[0;32mIn[6], line 1\u001b[0m\n\u001b[0;32m----> 1\u001b[0m \u001b[43mimage_style_transfer_GUI\u001b[49m\u001b[43m(\u001b[49m\u001b[43m)\u001b[49m\n",
      "Cell \u001b[0;32mIn[5], line 37\u001b[0m, in \u001b[0;36mimage_style_transfer_GUI\u001b[0;34m()\u001b[0m\n\u001b[1;32m     34\u001b[0m \u001b[38;5;28;01mif\u001b[39;00m style_img_path \u001b[38;5;129;01mand\u001b[39;00m content_img_path:\n\u001b[1;32m     35\u001b[0m     \u001b[38;5;66;03m#result_img = lst.test(style_img_path, content_img_path)\u001b[39;00m\n\u001b[1;32m     36\u001b[0m     result_img \u001b[38;5;241m=\u001b[39m Image\u001b[38;5;241m.\u001b[39mopen(style_img_path)\n\u001b[0;32m---> 37\u001b[0m \u001b[43mresult_img\u001b[49m\u001b[38;5;241m.\u001b[39msave(result_img_path)\n\u001b[1;32m     39\u001b[0m \u001b[38;5;28;01mdef\u001b[39;00m \u001b[38;5;21mshow_img\u001b[39m():\n\u001b[1;32m     40\u001b[0m     \u001b[38;5;28;01mnonlocal\u001b[39;00m result_img\n",
      "\u001b[0;31mUnboundLocalError\u001b[0m: cannot access local variable 'result_img' where it is not associated with a value"
     ]
    }
   ],
   "source": [
    "image_style_transfer_GUI()"
   ]
  }
 ],
 "metadata": {
  "kernelspec": {
   "display_name": "Python 3",
   "language": "python",
   "name": "python3"
  },
  "language_info": {
   "codemirror_mode": {
    "name": "ipython",
    "version": 3
   },
   "file_extension": ".py",
   "mimetype": "text/x-python",
   "name": "python",
   "nbconvert_exporter": "python",
   "pygments_lexer": "ipython3",
   "version": "3.11.4"
  }
 },
 "nbformat": 4,
 "nbformat_minor": 2
}
